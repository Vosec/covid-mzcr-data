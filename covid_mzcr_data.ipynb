{
 "cells": [
  {
   "cell_type": "code",
   "execution_count": 1,
   "metadata": {},
   "outputs": [],
   "source": [
    "import requests\n",
    "import lxml.html as lh\n",
    "import pandas as pd"
   ]
  },
  {
   "cell_type": "code",
   "execution_count": 2,
   "metadata": {},
   "outputs": [],
   "source": [
    "url='https://www.mzcr.cz/dokumenty/koronavirus-2019-ncov-aktualni-data_18455_1.html'\n",
    "page = requests.get(url)\n",
    "doc = lh.fromstring(page.content)\n",
    "tr_elements = doc.xpath('//tr')"
   ]
  },
  {
   "cell_type": "code",
   "execution_count": 3,
   "metadata": {},
   "outputs": [
    {
     "data": {
      "text/plain": [
       "[4, 4, 4, 4, 4, 4, 4, 4, 4, 4, 4, 4]"
      ]
     },
     "execution_count": 3,
     "metadata": {},
     "output_type": "execute_result"
    }
   ],
   "source": [
    "[len(T) for T in tr_elements[:12]]"
   ]
  },
  {
   "cell_type": "code",
   "execution_count": 4,
   "metadata": {},
   "outputs": [
    {
     "name": "stdout",
     "output_type": "stream",
     "text": [
      "1:\"\n",
      "\t\t\tDatum hlášení\n",
      "\t\t\t\"\n",
      "2:\"\n",
      "\t\t\tCelkový počet testovaných s podezřením na COVID-19\n",
      "\t\t\t\"\n",
      "3:\"\n",
      "\t\t\tZ toho počet laboratorně NEGATIVNÍCH případů\n",
      "\t\t\t\"\n",
      "4:\"\n",
      "\t\t\tZ toho počet laboratorně POZITIVNÍCH případů\n",
      "\t\t\t\"\n"
     ]
    }
   ],
   "source": [
    "col=[]\n",
    "i=0#For each row, store each first element (header) and an empty list\n",
    "for t in tr_elements[0]:\n",
    "    i+=1\n",
    "    name=t.text_content()\n",
    "    print('%d:\"%s\"'%(i,name))\n",
    "    col.append((name,[]))"
   ]
  },
  {
   "cell_type": "code",
   "execution_count": 5,
   "metadata": {},
   "outputs": [],
   "source": [
    "for j in range(1,len(tr_elements)):\n",
    "    T = tr_elements[j]\n",
    "    #looking for my table with 4 cols \n",
    "    if len(T)==4:    \n",
    "        i = 0\n",
    "        \n",
    "        for t in T.iterchildren():\n",
    "            data=t.text_content()\n",
    "            if i > 0:\n",
    "                try:\n",
    "                    data=int(data)\n",
    "                except:\n",
    "                    pass\n",
    "            col[i][1].append(data)\n",
    "            i+=1"
   ]
  },
  {
   "cell_type": "code",
   "execution_count": 6,
   "metadata": {},
   "outputs": [
    {
     "data": {
      "text/html": [
       "<div>\n",
       "<style scoped>\n",
       "    .dataframe tbody tr th:only-of-type {\n",
       "        vertical-align: middle;\n",
       "    }\n",
       "\n",
       "    .dataframe tbody tr th {\n",
       "        vertical-align: top;\n",
       "    }\n",
       "\n",
       "    .dataframe thead th {\n",
       "        text-align: right;\n",
       "    }\n",
       "</style>\n",
       "<table border=\"1\" class=\"dataframe\">\n",
       "  <thead>\n",
       "    <tr style=\"text-align: right;\">\n",
       "      <th></th>\n",
       "      <th>\\r\\n\\t\\t\\tDatum hlášení\\r\\n\\t\\t\\t</th>\n",
       "      <th>\\r\\n\\t\\t\\tCelkový počet testovaných s podezřením na COVID-19\\r\\n\\t\\t\\t</th>\n",
       "      <th>\\r\\n\\t\\t\\tZ toho počet laboratorně NEGATIVNÍCH případů\\r\\n\\t\\t\\t</th>\n",
       "      <th>\\r\\n\\t\\t\\tZ toho počet laboratorně POZITIVNÍCH případů\\r\\n\\t\\t\\t</th>\n",
       "    </tr>\n",
       "  </thead>\n",
       "  <tbody>\n",
       "    <tr>\n",
       "      <th>0</th>\n",
       "      <td>\\r\\n\\t\\t\\t8. 3. 2020\\r\\n\\t\\t\\t</td>\n",
       "      <td>787</td>\n",
       "      <td>761</td>\n",
       "      <td>\\r\\n\\t\\t\\t32 (v 19.15 hodin)\\r\\n\\t\\t\\t</td>\n",
       "    </tr>\n",
       "    <tr>\n",
       "      <th>1</th>\n",
       "      <td>\\r\\n\\t\\t\\t7. 3. 2020\\r\\n\\t\\t\\t</td>\n",
       "      <td>594</td>\n",
       "      <td>575</td>\n",
       "      <td>26</td>\n",
       "    </tr>\n",
       "    <tr>\n",
       "      <th>2</th>\n",
       "      <td>\\r\\n\\t\\t\\t6. 3. 2020\\r\\n\\t\\t\\t</td>\n",
       "      <td>483</td>\n",
       "      <td>471</td>\n",
       "      <td>19</td>\n",
       "    </tr>\n",
       "    <tr>\n",
       "      <th>3</th>\n",
       "      <td>\\r\\n\\t\\t\\t5. 3. 2020\\r\\n\\t\\t\\t</td>\n",
       "      <td>407</td>\n",
       "      <td>399</td>\n",
       "      <td>8</td>\n",
       "    </tr>\n",
       "    <tr>\n",
       "      <th>4</th>\n",
       "      <td>\\r\\n\\t\\t\\t4. 3. 2020\\r\\n\\t\\t\\t</td>\n",
       "      <td>340</td>\n",
       "      <td>335</td>\n",
       "      <td>5</td>\n",
       "    </tr>\n",
       "  </tbody>\n",
       "</table>\n",
       "</div>"
      ],
      "text/plain": [
       "  \\r\\n\\t\\t\\tDatum hlášení\\r\\n\\t\\t\\t  \\\n",
       "0    \\r\\n\\t\\t\\t8. 3. 2020\\r\\n\\t\\t\\t   \n",
       "1    \\r\\n\\t\\t\\t7. 3. 2020\\r\\n\\t\\t\\t   \n",
       "2    \\r\\n\\t\\t\\t6. 3. 2020\\r\\n\\t\\t\\t   \n",
       "3    \\r\\n\\t\\t\\t5. 3. 2020\\r\\n\\t\\t\\t   \n",
       "4    \\r\\n\\t\\t\\t4. 3. 2020\\r\\n\\t\\t\\t   \n",
       "\n",
       "   \\r\\n\\t\\t\\tCelkový počet testovaných s podezřením na COVID-19\\r\\n\\t\\t\\t  \\\n",
       "0                                                787                        \n",
       "1                                                594                        \n",
       "2                                                483                        \n",
       "3                                                407                        \n",
       "4                                                340                        \n",
       "\n",
       "   \\r\\n\\t\\t\\tZ toho počet laboratorně NEGATIVNÍCH případů\\r\\n\\t\\t\\t  \\\n",
       "0                                                761                  \n",
       "1                                                575                  \n",
       "2                                                471                  \n",
       "3                                                399                  \n",
       "4                                                335                  \n",
       "\n",
       "  \\r\\n\\t\\t\\tZ toho počet laboratorně POZITIVNÍCH případů\\r\\n\\t\\t\\t  \n",
       "0             \\r\\n\\t\\t\\t32 (v 19.15 hodin)\\r\\n\\t\\t\\t                \n",
       "1                                                 26                \n",
       "2                                                 19                \n",
       "3                                                  8                \n",
       "4                                                  5                "
      ]
     },
     "execution_count": 6,
     "metadata": {},
     "output_type": "execute_result"
    }
   ],
   "source": [
    "Dict={title:column for (title,column) in col}\n",
    "df=pd.DataFrame(Dict)\n",
    "df.head()"
   ]
  },
  {
   "cell_type": "code",
   "execution_count": 7,
   "metadata": {},
   "outputs": [
    {
     "data": {
      "text/plain": [
       "<bound method Index.unique of Index(['Datum', 'testovani', 'negativni', 'pozitivni'], dtype='object')>"
      ]
     },
     "execution_count": 7,
     "metadata": {},
     "output_type": "execute_result"
    }
   ],
   "source": [
    "df.rename(columns={'\\r\\n\\t\\t\\tCelkový počet testovaných s podezřením na COVID-19\\r\\n\\t\\t\\t':'testovani',\n",
    "                   '\\r\\n\\t\\t\\tZ toho počet laboratorně NEGATIVNÍCH případů\\r\\n\\t\\t\\t':'negativni',\n",
    "                   '\\r\\n\\t\\t\\tZ toho počet laboratorně POZITIVNÍCH případů\\r\\n\\t\\t\\t':'pozitivni',\n",
    "                   '\\r\\n\\t\\t\\tDatum hlášení\\r\\n\\t\\t\\t':'Datum'}, \n",
    "                 inplace=True)\n",
    "df.columns.unique"
   ]
  },
  {
   "cell_type": "code",
   "execution_count": 8,
   "metadata": {},
   "outputs": [
    {
     "data": {
      "text/html": [
       "<div>\n",
       "<style scoped>\n",
       "    .dataframe tbody tr th:only-of-type {\n",
       "        vertical-align: middle;\n",
       "    }\n",
       "\n",
       "    .dataframe tbody tr th {\n",
       "        vertical-align: top;\n",
       "    }\n",
       "\n",
       "    .dataframe thead th {\n",
       "        text-align: right;\n",
       "    }\n",
       "</style>\n",
       "<table border=\"1\" class=\"dataframe\">\n",
       "  <thead>\n",
       "    <tr style=\"text-align: right;\">\n",
       "      <th></th>\n",
       "      <th>Datum</th>\n",
       "      <th>testovani</th>\n",
       "      <th>negativni</th>\n",
       "      <th>pozitivni</th>\n",
       "    </tr>\n",
       "  </thead>\n",
       "  <tbody>\n",
       "    <tr>\n",
       "      <th>0</th>\n",
       "      <td>8. 3. 2020</td>\n",
       "      <td>787</td>\n",
       "      <td>761</td>\n",
       "      <td>32 (v 19.15 hodin)</td>\n",
       "    </tr>\n",
       "    <tr>\n",
       "      <th>1</th>\n",
       "      <td>7. 3. 2020</td>\n",
       "      <td>594</td>\n",
       "      <td>575</td>\n",
       "      <td>26</td>\n",
       "    </tr>\n",
       "    <tr>\n",
       "      <th>2</th>\n",
       "      <td>6. 3. 2020</td>\n",
       "      <td>483</td>\n",
       "      <td>471</td>\n",
       "      <td>19</td>\n",
       "    </tr>\n",
       "    <tr>\n",
       "      <th>3</th>\n",
       "      <td>5. 3. 2020</td>\n",
       "      <td>407</td>\n",
       "      <td>399</td>\n",
       "      <td>8</td>\n",
       "    </tr>\n",
       "    <tr>\n",
       "      <th>4</th>\n",
       "      <td>4. 3. 2020</td>\n",
       "      <td>340</td>\n",
       "      <td>335</td>\n",
       "      <td>5</td>\n",
       "    </tr>\n",
       "  </tbody>\n",
       "</table>\n",
       "</div>"
      ],
      "text/plain": [
       "        Datum  testovani  negativni           pozitivni\n",
       "0  8. 3. 2020        787        761  32 (v 19.15 hodin)\n",
       "1  7. 3. 2020        594        575                  26\n",
       "2  6. 3. 2020        483        471                  19\n",
       "3  5. 3. 2020        407        399                   8\n",
       "4  4. 3. 2020        340        335                   5"
      ]
     },
     "execution_count": 8,
     "metadata": {},
     "output_type": "execute_result"
    }
   ],
   "source": [
    "cols = df.columns\n",
    "df[cols] = df[cols].replace({'\\r\\n\\t\\t\\t':''}, regex=True)\n",
    "df.head()"
   ]
  },
  {
   "cell_type": "code",
   "execution_count": 9,
   "metadata": {},
   "outputs": [
    {
     "data": {
      "text/html": [
       "<div>\n",
       "<style scoped>\n",
       "    .dataframe tbody tr th:only-of-type {\n",
       "        vertical-align: middle;\n",
       "    }\n",
       "\n",
       "    .dataframe tbody tr th {\n",
       "        vertical-align: top;\n",
       "    }\n",
       "\n",
       "    .dataframe thead th {\n",
       "        text-align: right;\n",
       "    }\n",
       "</style>\n",
       "<table border=\"1\" class=\"dataframe\">\n",
       "  <thead>\n",
       "    <tr style=\"text-align: right;\">\n",
       "      <th></th>\n",
       "      <th>Datum</th>\n",
       "      <th>testovani</th>\n",
       "      <th>negativni</th>\n",
       "      <th>pozitivni</th>\n",
       "    </tr>\n",
       "  </thead>\n",
       "  <tbody>\n",
       "    <tr>\n",
       "      <th>0</th>\n",
       "      <td>8. 3. 2020</td>\n",
       "      <td>787</td>\n",
       "      <td>761</td>\n",
       "      <td>32</td>\n",
       "    </tr>\n",
       "    <tr>\n",
       "      <th>1</th>\n",
       "      <td>7. 3. 2020</td>\n",
       "      <td>594</td>\n",
       "      <td>575</td>\n",
       "      <td>26</td>\n",
       "    </tr>\n",
       "    <tr>\n",
       "      <th>2</th>\n",
       "      <td>6. 3. 2020</td>\n",
       "      <td>483</td>\n",
       "      <td>471</td>\n",
       "      <td>19</td>\n",
       "    </tr>\n",
       "    <tr>\n",
       "      <th>3</th>\n",
       "      <td>5. 3. 2020</td>\n",
       "      <td>407</td>\n",
       "      <td>399</td>\n",
       "      <td>8</td>\n",
       "    </tr>\n",
       "    <tr>\n",
       "      <th>4</th>\n",
       "      <td>4. 3. 2020</td>\n",
       "      <td>340</td>\n",
       "      <td>335</td>\n",
       "      <td>5</td>\n",
       "    </tr>\n",
       "  </tbody>\n",
       "</table>\n",
       "</div>"
      ],
      "text/plain": [
       "        Datum  testovani  negativni pozitivni\n",
       "0  8. 3. 2020        787        761        32\n",
       "1  7. 3. 2020        594        575        26\n",
       "2  6. 3. 2020        483        471        19\n",
       "3  5. 3. 2020        407        399         8\n",
       "4  4. 3. 2020        340        335         5"
      ]
     },
     "execution_count": 9,
     "metadata": {},
     "output_type": "execute_result"
    }
   ],
   "source": [
    "import re\n",
    "find = re.compile(r'([^ ]+)')\n",
    "i = 0\n",
    "for l in df['pozitivni']:\n",
    "    if isinstance(l, str):\n",
    "        tmp = re.search(find, l).group(0)\n",
    "        df.at[i,'pozitivni'] = int(tmp)\n",
    "    i+=1\n",
    "\n",
    "df.head()"
   ]
  },
  {
   "cell_type": "code",
   "execution_count": 10,
   "metadata": {},
   "outputs": [
    {
     "data": {
      "image/png": "[encoded data removed]",
      "text/plain": [
       "<Figure size 432x288 with 1 Axes>"
      ]
     },
     "metadata": {
      "needs_background": "light"
     },
     "output_type": "display_data"
    }
   ],
   "source": [
    "import matplotlib.pyplot as plt\n",
    "import datetime as dt\n",
    "df[\"Datum\"] = pd.to_datetime(df['Datum'], dayfirst=True)\n",
    "df.set_index(\"Datum\")\n",
    "\n",
    "ax = df.plot(kind='line',x='Datum',y=['testovani','negativni','pozitivni'])"
   ]
  },
  {
   "cell_type": "code",
   "execution_count": 11,
   "metadata": {},
   "outputs": [
    {
     "data": {
      "text/plain": [
       "Datum        2020-03-08 00:00:00\n",
       "testovani                    787\n",
       "negativni                    761\n",
       "pozitivni                     32\n",
       "Name: 0, dtype: object"
      ]
     },
     "execution_count": 11,
     "metadata": {},
     "output_type": "execute_result"
    }
   ],
   "source": [
    "df.iloc[0]"
   ]
  },
  {
   "cell_type": "code",
   "execution_count": null,
   "metadata": {},
   "outputs": [],
   "source": []
  }
 ],
 "metadata": {
  "kernelspec": {
   "display_name": "Python 3",
   "language": "python",
   "name": "python3"
  },
  "language_info": {
   "codemirror_mode": {
    "name": "ipython",
    "version": 3
   },
   "file_extension": ".py",
   "mimetype": "text/x-python",
   "name": "python",
   "nbconvert_exporter": "python",
   "pygments_lexer": "ipython3",
   "version": "3.7.0"
  }
 },
 "nbformat": 4,
 "nbformat_minor": 4
}
